{
 "cells": [
  {
   "cell_type": "code",
   "execution_count": 1,
   "metadata": {},
   "outputs": [],
   "source": [
    "%load_ext autoreload\n",
    "%autoreload 2"
   ]
  },
  {
   "cell_type": "code",
   "execution_count": 2,
   "metadata": {},
   "outputs": [],
   "source": [
    "import sys\n",
    "import uuid\n",
    "import logging\n",
    "import getpass\n",
    "import numpy as np\n",
    "import cv2\n",
    "import os\n",
    "import gc\n",
    "import time\n",
    "import imageio\n",
    "import random\n",
    "import shutil\n",
    "import copy\n",
    "import glob\n",
    "import json\n",
    "import shutil\n",
    "import pickle\n",
    "import traceback\n",
    "import zipfile\n",
    "from collections import Counter\n",
    "from pprint import pprint as print"
   ]
  },
  {
   "cell_type": "code",
   "execution_count": 3,
   "metadata": {},
   "outputs": [],
   "source": [
    "import cv2\n",
    "import requests\n",
    "import numpy as np\n",
    "import pandas as pd\n",
    "import matplotlib.pyplot as plt\n",
    "from scipy.io import loadmat\n",
    "from tqdm import tqdm, tqdm_notebook\n",
    "from PIL import Image, ImageDraw, ExifTags\n",
    "from shapely.geometry import Polygon\n",
    "import imgaug\n",
    "import imgaug as ia\n",
    "import imgaug.augmenters as iaa\n",
    "import skimage\n",
    "from skimage import io, color\n",
    "import torch\n",
    "from torch.utils.data import DataLoader"
   ]
  },
  {
   "cell_type": "code",
   "execution_count": 4,
   "metadata": {},
   "outputs": [],
   "source": [
    "def imshow(img, figsize=(16, 16)):\n",
    "    fig, ax = plt.subplots(1, 1, figsize=figsize)\n",
    "    ax.axis('off')\n",
    "    ax.imshow(img)\n",
    "    \n",
    "def remove_all_content(fd):\n",
    "    shutil.rmtree(fd)\n",
    "    os.mkdir(fd)"
   ]
  },
  {
   "cell_type": "code",
   "execution_count": 5,
   "metadata": {},
   "outputs": [],
   "source": [
    "from test_api import CLI, CVAT_API_V1, ResourceType"
   ]
  },
  {
   "cell_type": "code",
   "execution_count": null,
   "metadata": {},
   "outputs": [],
   "source": [
    "class Args:\n",
    "    \n",
    "    def __init__(self, action=\"create\"):\n",
    "        \n",
    "        self.action = action\n",
    "        self.auth = (\"\", \"\")  # type tuple\n",
    "        self.server_host = \"\"\n",
    "        self.server_port = 8080\n",
    "        self.https = False\n",
    "        self.loglevel = 20\n",
    "\n",
    "        self.name = \"test\"\n",
    "        self.labels = [{\"name\":\"text\", \"attributes\": []}]  # type list\n",
    "        self.overlap = 0\n",
    "        self.segment_size = 0\n",
    "        self.bug = \"\"\n",
    "        self.resource_type = ResourceType(0)\n",
    "        self.resources = [\"/home/phan.huy.hoang/Pictures/test_img_cvat.zip\"]\n",
    "        self.annotation_path = \"/home/phan.huy.hoang/cvat/utils/cli/instances_default.json\"\n",
    "        self.annotation_format = \"COCO 1.0\"\n",
    "\n",
    "        # for git only\n",
    "        self.completion_verification_period = 10\n",
    "        self.dataset_repository_url = \"\"\n",
    "        self.lfs = False\n",
    "\n",
    "args = Args()\n",
    "CVAT_URL = \"http://{}:{}/\".format(args.server_host, args.server_port)\n",
    "API_URL = CVAT_URL + \"api/v1/\"\n",
    "username, password = args.auth\n",
    "username, password"
   ]
  },
  {
   "cell_type": "code",
   "execution_count": 7,
   "metadata": {},
   "outputs": [],
   "source": [
    "def get_cookies():\n",
    "    login_json = {\"username\": username, \"password\": password}\n",
    "    login_req = requests.post(API_URL + 'auth/login', json=login_json)\n",
    "    cookies = login_req.cookies\n",
    "    return cookies\n",
    "\n",
    "cookies = get_cookies()"
   ]
  },
  {
   "cell_type": "code",
   "execution_count": null,
   "metadata": {},
   "outputs": [],
   "source": [
    "req = requests.get(\"{}/api/v1/tasks/1043\".format(CVAT_URL), cookies=cookies)\n",
    "req.text"
   ]
  },
  {
   "cell_type": "code",
   "execution_count": 9,
   "metadata": {},
   "outputs": [
    {
     "name": "stdout",
     "output_type": "stream",
     "text": [
      "19\n"
     ]
    }
   ],
   "source": [
    "task_ids = list(range(1043, 1047)) + list(range(1048, 1063))  # ignore task 1047\n",
    "print(len(task_ids))"
   ]
  },
  {
   "cell_type": "markdown",
   "metadata": {},
   "source": [
    "### Download cả ảnh + label"
   ]
  },
  {
   "cell_type": "code",
   "execution_count": 10,
   "metadata": {},
   "outputs": [],
   "source": [
    "saved_dir = \"/media/SUN-ASTERISK\\phan.huy.hoang/My Passport/phanhoang/data/CMT_CCCD/CVAT/downloaded_cropper/zip\"\n",
    "assert os.path.exists(saved_dir)"
   ]
  },
  {
   "cell_type": "code",
   "execution_count": 11,
   "metadata": {},
   "outputs": [],
   "source": [
    "url_fmt = \"http://{}:8080/api/v1/tasks/{}/dataset?format=COCO%201.0&action=download\""
   ]
  },
  {
   "cell_type": "code",
   "execution_count": 12,
   "metadata": {},
   "outputs": [],
   "source": [
    "# remove_all_content(saved_dir)"
   ]
  },
  {
   "cell_type": "code",
   "execution_count": 13,
   "metadata": {},
   "outputs": [],
   "source": [
    "def download_file(req, task_id):\n",
    "    with open(os.path.join(saved_dir, '{}.zip'.format(task_id)), 'wb') as f:\n",
    "        for chunk in req.iter_content(chunk_size=1024): \n",
    "            if chunk: # filter out keep-alive new chunks\n",
    "                f.write(chunk)\n",
    "    print(\"Task {}: download completed\".format(task_id))"
   ]
  },
  {
   "cell_type": "code",
   "execution_count": 14,
   "metadata": {},
   "outputs": [
    {
     "name": "stderr",
     "output_type": "stream",
     "text": [
      "/home/phan.huy.hoang/.local/lib/python3.6/site-packages/ipykernel_launcher.py:1: TqdmDeprecationWarning: This function will be removed in tqdm==5.0.0\n",
      "Please use `tqdm.notebook.tqdm` instead of `tqdm.tqdm_notebook`\n",
      "  \"\"\"Entry point for launching an IPython kernel.\n"
     ]
    },
    {
     "data": {
      "application/vnd.jupyter.widget-view+json": {
       "model_id": "502773e18d734459bc13fc0da49b9364",
       "version_major": 2,
       "version_minor": 0
      },
      "text/plain": [
       "  0%|          | 0/19 [00:00<?, ?it/s]"
      ]
     },
     "metadata": {},
     "output_type": "display_data"
    },
    {
     "name": "stdout",
     "output_type": "stream",
     "text": [
      "'Task 1043: download completed'\n",
      "'Task 1044: download completed'\n",
      "'Task 1045: download completed'\n",
      "'Task 1046: download completed'\n",
      "'Task 1048: download completed'\n",
      "'Task 1049: download completed'\n",
      "'Task 1050: download completed'\n",
      "'Task 1051: download completed'\n",
      "'Task 1052: download completed'\n",
      "'Task 1053: download completed'\n",
      "'Task 1054: download completed'\n",
      "'Task 1055: download completed'\n",
      "'Task 1056: download completed'\n",
      "'Task 1057: download completed'\n",
      "'Task 1058: download completed'\n",
      "'Task 1059: download completed'\n",
      "'Task 1060: download completed'\n",
      "'Task 1061: download completed'\n",
      "'Task 1062: download completed'\n"
     ]
    }
   ],
   "source": [
    "for task_id in tqdm_notebook(task_ids):\n",
    "    url = url_fmt.format(args.server_host, task_id)\n",
    "\n",
    "    while True:\n",
    "        req = requests.get(url, cookies=cookies)\n",
    "        if req.status_code == 200:\n",
    "            download_file(req, task_id)\n",
    "            break\n",
    "\n",
    "    time.sleep(10)\n",
    "    \n",
    "# unzip all zip files in the same root folder\n",
    "for task_id in task_ids:\n",
    "    zip_fp = os.path.join(saved_dir, \"{}.zip\".format(task_id))\n",
    "    assert os.path.exists(zip_fp)\n",
    "    \n",
    "    task_dir = os.path.join(saved_dir, str(task_id))\n",
    "    if not os.path.exists(task_dir):\n",
    "        os.mkdir(task_dir)\n",
    "        \n",
    "    with zipfile.ZipFile(zip_fp, \"r\") as zip_ref:\n",
    "        zip_ref.extractall(task_dir)"
   ]
  },
  {
   "cell_type": "code",
   "execution_count": null,
   "metadata": {},
   "outputs": [],
   "source": []
  },
  {
   "cell_type": "markdown",
   "metadata": {},
   "source": [
    "### Cắt ảnh theo perspective transform (4 góc)"
   ]
  },
  {
   "cell_type": "code",
   "execution_count": 15,
   "metadata": {},
   "outputs": [],
   "source": [
    "def get_center_point(c):\n",
    "    x, y, w, h = c\n",
    "    x_center = int(x + w / 2)\n",
    "    y_center = int(y + h / 2)\n",
    "    return x_center, y_center\n",
    "\n",
    "def order_points(pts):\n",
    "    # initialzie a list of coordinates that will be ordered\n",
    "    # such that the first entry in the list is the top-left,\n",
    "    # the second entry is the top-right, the third is the\n",
    "    # bottom-right, and the fourth is the bottom-left\n",
    "    rect = np.zeros((4, 2), dtype = \"float32\")\n",
    "    # the top-left point will have the smallest sum, whereas\n",
    "    # the bottom-right point will have the largest sum\n",
    "    s = pts.sum(axis = 1)\n",
    "    rect[0] = pts[np.argmin(s)]\n",
    "    rect[2] = pts[np.argmax(s)]\n",
    "    # now, compute the difference between the points, the\n",
    "    # top-right point will have the smallest difference,\n",
    "    # whereas the bottom-left will have the largest difference\n",
    "    diff = np.diff(pts, axis = 1)\n",
    "    rect[1] = pts[np.argmin(diff)]\n",
    "    rect[3] = pts[np.argmax(diff)]\n",
    "    # return the ordered coordinates\n",
    "    return rect\n",
    "\n",
    "def four_point_transform(image, pts):\n",
    "    # obtain a consistent order of the points and unpack them\n",
    "    # individually\n",
    "    rect = order_points(pts)\n",
    "    (tl, tr, br, bl) = rect\n",
    "    # compute the width of the new image, which will be the\n",
    "    # maximum distance between bottom-right and bottom-left\n",
    "    # x-coordiates or the top-right and top-left x-coordinates\n",
    "    widthA = np.sqrt(((br[0] - bl[0]) ** 2) + ((br[1] - bl[1]) ** 2))\n",
    "    widthB = np.sqrt(((tr[0] - tl[0]) ** 2) + ((tr[1] - tl[1]) ** 2))\n",
    "    maxWidth = max(int(widthA), int(widthB))\n",
    "    # compute the height of the new image, which will be the\n",
    "    # maximum distance between the top-right and bottom-right\n",
    "    # y-coordinates or the top-left and bottom-left y-coordinates\n",
    "    heightA = np.sqrt(((tr[0] - br[0]) ** 2) + ((tr[1] - br[1]) ** 2))\n",
    "    heightB = np.sqrt(((tl[0] - bl[0]) ** 2) + ((tl[1] - bl[1]) ** 2))\n",
    "    maxHeight = max(int(heightA), int(heightB))\n",
    "    # now that we have the dimensions of the new image, construct\n",
    "    # the set of destination points to obtain a \"birds eye view\",\n",
    "    # (i.e. top-down view) of the image, again specifying points\n",
    "    # in the top-left, top-right, bottom-right, and bottom-left\n",
    "    # order\n",
    "    dst = np.array([\n",
    "        [0, 0],\n",
    "        [maxWidth - 1, 0],\n",
    "        [maxWidth - 1, maxHeight - 1],\n",
    "        [0, maxHeight - 1]], dtype = \"float32\")\n",
    "    # compute the perspective transform matrix and then apply it\n",
    "    M = cv2.getPerspectiveTransform(rect, dst)\n",
    "    warped = cv2.warpPerspective(image, M, (maxWidth, maxHeight))\n",
    "    # return the warped image\n",
    "    return warped"
   ]
  },
  {
   "cell_type": "code",
   "execution_count": 16,
   "metadata": {},
   "outputs": [],
   "source": [
    "warped_dir = \"/media/SUN-ASTERISK\\phan.huy.hoang/My Passport/phanhoang/data/CMT_CCCD/CVAT/downloaded_cropper/warped\"\n",
    "assert os.path.exists(warped_dir)"
   ]
  },
  {
   "cell_type": "code",
   "execution_count": 17,
   "metadata": {},
   "outputs": [],
   "source": [
    "remove_all_content(warped_dir)"
   ]
  },
  {
   "cell_type": "code",
   "execution_count": 18,
   "metadata": {},
   "outputs": [],
   "source": [
    "def check_existed_or_create(fd):\n",
    "    if not os.path.exists(fd):\n",
    "        os.mkdir(fd)\n",
    "        \n",
    "for type_idcard in [\"cmnd\", \"cccd\", \"cccd_chip\"]:\n",
    "    first_dir = os.path.join(warped_dir, type_idcard)\n",
    "    check_existed_or_create(first_dir)\n",
    "    for mode in [\"front\", \"back\"]:\n",
    "        second_dir = os.path.join(first_dir, mode)\n",
    "        check_existed_or_create(second_dir)"
   ]
  },
  {
   "cell_type": "code",
   "execution_count": 19,
   "metadata": {},
   "outputs": [],
   "source": [
    "error_fps = []\n",
    "\n",
    "def process_task(anno_fp, img_dir):\n",
    "    # for 1 task\n",
    "    with open(anno_fp, \"r\") as f:\n",
    "        json_data = json.load(f)\n",
    "    \n",
    "    json_df = pd.DataFrame(json_data[\"annotations\"])\n",
    "    json_df = pd.concat([json_df.drop(['attributes'], axis=1), json_df['attributes'].apply(pd.Series)], axis=1)\n",
    "    \n",
    "    label_mapping = dict()\n",
    "    for d in json_data[\"categories\"]:\n",
    "        label_mapping[d[\"name\"]] = d[\"id\"]\n",
    "    \n",
    "    for img_index, img_info in enumerate(tqdm_notebook(json_data[\"images\"])):\n",
    "        img_id = img_info[\"id\"]\n",
    "        img_fn = img_info[\"file_name\"]\n",
    "        img_fp = os.path.join(img_dir, img_fn)\n",
    "\n",
    "        try:\n",
    "            img_df = json_df[json_df[\"image_id\"].isin([img_id])]\n",
    "            pil_img = Image.open(img_fp)\n",
    "            pil_img = pil_img.convert('RGB')\n",
    "            img = np.array(pil_img)\n",
    "\n",
    "            if len(img_df) == 4:\n",
    "                is_front = False\n",
    "            else:\n",
    "                is_front = True\n",
    "            # check nb rows == 4 or 5 (4/5 classes)\n",
    "            # check 4 or 5 unique category ids (ignore wrong annotation)\n",
    "            # idcard's type it not np.nan (annotated in top-left object)\n",
    "            try:\n",
    "                assert len(img_df) in [4, 5]\n",
    "                if is_front:\n",
    "                    assert len(img_df[\"category_id\"].unique()) == 5\n",
    "                else:\n",
    "                    assert len(img_df[\"category_id\"].unique()) == 4\n",
    "                assert img_df[img_df[\"category_id\"] == 1][\"type\"].values[0] is not np.nan\n",
    "            except Exception:\n",
    "    #             print(\"Error: {}\".format(img_fp))\n",
    "                error_fps.append(img_fp)\n",
    "                continue\n",
    "\n",
    "            is_valid = True\n",
    "            for row_index, row in img_df.iterrows():\n",
    "                c_id = row[\"category_id\"]\n",
    "                bbox = copy.deepcopy(row[\"bbox\"])\n",
    "                if c_id == label_mapping[\"top_left\"]:\n",
    "                    tl = bbox\n",
    "                    type_idcard = row[\"type\"]\n",
    "                    if type_idcard is np.nan:\n",
    "                        is_valid = False\n",
    "                        break\n",
    "                elif c_id == label_mapping[\"top_right\"]:\n",
    "                    tr = bbox\n",
    "                elif c_id == label_mapping[\"bottom_left\"]:\n",
    "                    bl = bbox\n",
    "                elif c_id == label_mapping[\"bottom_right\"]:\n",
    "                    br = bbox\n",
    "            if not is_valid:\n",
    "                continue\n",
    "\n",
    "            if type_idcard not in [\"cmnd\", \"cccd\", \"cccd_chip\"]:\n",
    "                error_fps.append(img_fp)\n",
    "                continue\n",
    "\n",
    "            pts = np.array([\n",
    "                get_center_point(tl),\n",
    "                get_center_point(tr),\n",
    "                get_center_point(br),\n",
    "                get_center_point(bl)\n",
    "            ])\n",
    "            pts = order_points(pts)\n",
    "            warped_img = four_point_transform(img, pts)\n",
    "\n",
    "            if is_front:\n",
    "                sub_dir = \"front\"\n",
    "            else:\n",
    "                sub_dir = \"back\"\n",
    "            warped_img_fp = os.path.join(warped_dir, type_idcard, sub_dir, \"warped_{}\".format(img_fn))\n",
    "\n",
    "            # rotate image\n",
    "            h, w, _ = warped_img.shape\n",
    "            if h > w:\n",
    "                # check rotated 90 degree image\n",
    "                x1, y1 = get_center_point(tl)\n",
    "                x3, y3 = get_center_point(br)\n",
    "                if x1 > x3:\n",
    "                    # rotate -90 degree\n",
    "                    warped_img = cv2.rotate(warped_img, cv2.ROTATE_90_COUNTERCLOCKWISE)\n",
    "                else:\n",
    "                    # rotate 90 degree\n",
    "                    warped_img = cv2.rotate(warped_img, cv2.ROTATE_90_CLOCKWISE)\n",
    "            else:\n",
    "                # check reverse image\n",
    "                y_center_top = (get_center_point(tl)[1] + get_center_point(tr)[1]) / 2 \n",
    "                y_center_bottom = (get_center_point(bl)[1] + get_center_point(br)[1]) / 2 \n",
    "                if y_center_top > y_center_bottom:\n",
    "                    warped_img = cv2.rotate(warped_img, cv2.ROTATE_180)\n",
    "\n",
    "            del tl, tr, br, bl\n",
    "        #     print(\"{} - {}\".format(img_fn, is_convert_rgb))\n",
    "#             print(\"{} - {}\".format(img.shape, warped_img.shape))\n",
    "            imageio.imwrite(warped_img_fp, warped_img)\n",
    "        except Exception:\n",
    "            error_fps.append(img_fp)\n",
    "            traceback.print_exc()\n",
    "            continue"
   ]
  },
  {
   "cell_type": "code",
   "execution_count": null,
   "metadata": {},
   "outputs": [],
   "source": [
    "for task_id in tqdm_notebook(task_ids):\n",
    "    task_dir = os.path.join(saved_dir, str(task_id))\n",
    "    img_dir = os.path.join(task_dir, \"images\")\n",
    "    anno_fp = os.path.join(task_dir, \"annotations\", \"instances_default.json\")\n",
    "    assert os.path.exists(task_dir)\n",
    "    assert os.path.exists(anno_fp)\n",
    "    assert os.path.exists(img_dir)\n",
    "    \n",
    "    process_task(anno_fp, img_dir)"
   ]
  },
  {
   "cell_type": "code",
   "execution_count": 21,
   "metadata": {},
   "outputs": [
    {
     "data": {
      "text/plain": [
       "47"
      ]
     },
     "execution_count": 21,
     "metadata": {},
     "output_type": "execute_result"
    }
   ],
   "source": [
    "len(error_fps)"
   ]
  },
  {
   "cell_type": "code",
   "execution_count": null,
   "metadata": {},
   "outputs": [],
   "source": []
  },
  {
   "cell_type": "markdown",
   "metadata": {},
   "source": [
    "### Upload data to server"
   ]
  },
  {
   "cell_type": "markdown",
   "metadata": {},
   "source": [
    "cmnd\n",
    "- front\n",
    "- back\n",
    "\n",
    "cccd\n",
    "- front\n",
    "- back"
   ]
  },
  {
   "cell_type": "code",
   "execution_count": 22,
   "metadata": {},
   "outputs": [
    {
     "name": "stdout",
     "output_type": "stream",
     "text": [
      "16\n",
      "13\n"
     ]
    }
   ],
   "source": [
    "CCCD_LABEL_NAMES = [\n",
    "    'gender',\n",
    "    'expires_date',\n",
    "    'nationality',\n",
    "    'ethnicity',\n",
    "    'id_number',\n",
    "    'name',\n",
    "    'dob',\n",
    "    'hometown',\n",
    "    'address',\n",
    "    'face',\n",
    "    'religion',\n",
    "    'issue_date',\n",
    "    'personal_identification',\n",
    "    'left_fingerprint',\n",
    "    'right_fingerprint',\n",
    "    'remove'\n",
    "]\n",
    "\n",
    "CMND_LABEL_NAMES = [\n",
    "    'ethnicity',\n",
    "    'id_number',\n",
    "    'name',\n",
    "    'dob',\n",
    "    'hometown',\n",
    "    'address',\n",
    "    'face',\n",
    "    'religion',\n",
    "    'issue_date',\n",
    "    'personal_identification',\n",
    "    'left_fingerprint',\n",
    "    'right_fingerprint',\n",
    "    'remove'\n",
    "]\n",
    "print(len(CCCD_LABEL_NAMES))\n",
    "print(len(CMND_LABEL_NAMES))"
   ]
  },
  {
   "cell_type": "code",
   "execution_count": 23,
   "metadata": {},
   "outputs": [],
   "source": [
    "CCCD_LABELS = []\n",
    "CMND_LABELS = []\n",
    "\n",
    "for label in CCCD_LABEL_NAMES:\n",
    "    CCCD_LABELS.append({\n",
    "        \"name\": label,\n",
    "        \"attributes\": [\n",
    "            {\n",
    "                \"name\": \"text_label\",\n",
    "                \"input_type\": \"text\",\n",
    "                \"mutable\": False,\n",
    "                \"values\": [\n",
    "                    \"\"\n",
    "                ]\n",
    "            } \n",
    "        ]\n",
    "    })\n",
    "    \n",
    "for label in CMND_LABEL_NAMES:\n",
    "    CMND_LABELS.append({\n",
    "        \"name\": label,\n",
    "        \"attributes\": [\n",
    "            {\n",
    "                \"name\": \"text_label\",\n",
    "                \"input_type\": \"text\",\n",
    "                \"mutable\": False,\n",
    "                \"values\": [\n",
    "                    \"\"\n",
    "                ]\n",
    "            } \n",
    "        ]\n",
    "    })"
   ]
  },
  {
   "cell_type": "code",
   "execution_count": 24,
   "metadata": {},
   "outputs": [],
   "source": [
    "from test_api import CLI, CVAT_API_V1, ResourceType\n",
    "\n",
    "class Args:\n",
    "    \n",
    "    def __init__(self, action=\"create\"):\n",
    "        \n",
    "        self.action = action\n",
    "        self.auth = (\"\", \"\")  # type tuple\n",
    "        self.server_host = \"\"\n",
    "        self.server_port = 8080\n",
    "        self.https = False\n",
    "        self.loglevel = 20\n",
    "\n",
    "        self.name = \"\"\n",
    "#         self.labels = LABELS\n",
    "        self.labels = []\n",
    "        self.overlap = 0\n",
    "        self.segment_size = 0\n",
    "        self.bug = \"\"\n",
    "        self.resource_type = ResourceType(0)\n",
    "        self.resources = [\"\"]\n",
    "        self.annotation_path = \"\"\n",
    "        self.annotation_format = \"COCO 1.0\"\n",
    "\n",
    "        # for git only\n",
    "        self.completion_verification_period = 10\n",
    "        self.dataset_repository_url = \"\"\n",
    "        self.lfs = False\n",
    "\n",
    "args = Args()\n",
    "\n",
    "actions = {\n",
    "    'create': CLI.tasks_create,\n",
    "    'delete': CLI.tasks_delete,\n",
    "    'ls': CLI.tasks_list,\n",
    "    'frames': CLI.tasks_frame,\n",
    "    'dump': CLI.tasks_dump,\n",
    "    'upload': CLI.tasks_upload\n",
    "}"
   ]
  },
  {
   "cell_type": "code",
   "execution_count": 25,
   "metadata": {},
   "outputs": [],
   "source": [
    "root_dir = \"/media/SUN-ASTERISK\\phan.huy.hoang/My Passport/phanhoang/data/CMT_CCCD/CVAT/downloaded_cropper/warped\""
   ]
  },
  {
   "cell_type": "code",
   "execution_count": 26,
   "metadata": {},
   "outputs": [],
   "source": [
    "cmnd_dir = os.path.join(root_dir, \"cmnd\")\n",
    "cccd_dir = os.path.join(root_dir, \"cccd\")\n",
    "cmnd_front_dir = os.path.join(cmnd_dir, \"front\")\n",
    "cmnd_back_dir = os.path.join(cmnd_dir, \"back\")\n",
    "cccd_front_dir = os.path.join(cccd_dir, \"front\")\n",
    "cccd_back_dir = os.path.join(cccd_dir, \"back\")"
   ]
  },
  {
   "cell_type": "code",
   "execution_count": 27,
   "metadata": {},
   "outputs": [],
   "source": [
    "cmnd_front_fps = glob.glob(os.path.join(cmnd_front_dir, \"*\"))\n",
    "cmnd_back_fps = glob.glob(os.path.join(cmnd_back_dir, \"*\"))\n",
    "cccd_front_fps = glob.glob(os.path.join(cccd_front_dir, \"*\"))\n",
    "cccd_back_fps = glob.glob(os.path.join(cccd_back_dir, \"*\"))"
   ]
  },
  {
   "cell_type": "code",
   "execution_count": 28,
   "metadata": {},
   "outputs": [
    {
     "name": "stdout",
     "output_type": "stream",
     "text": [
      "1268\n",
      "1144\n",
      "690\n",
      "615\n"
     ]
    }
   ],
   "source": [
    "for i in [cmnd_front_fps, cmnd_back_fps, cccd_front_fps, cccd_back_fps]:\n",
    "    print(len(i))"
   ]
  },
  {
   "cell_type": "code",
   "execution_count": 29,
   "metadata": {},
   "outputs": [],
   "source": [
    "save_image_fd = \"/media/SUN-ASTERISK\\phan.huy.hoang/My Passport/phanhoang/data/CMT_CCCD/CVAT/detector\"\n",
    "assert os.path.exists(save_image_fd)"
   ]
  },
  {
   "cell_type": "code",
   "execution_count": 30,
   "metadata": {},
   "outputs": [],
   "source": [
    "remove_all_content(save_image_fd)"
   ]
  },
  {
   "cell_type": "code",
   "execution_count": 31,
   "metadata": {},
   "outputs": [],
   "source": [
    "def create_batches_image(img_fps, type_id=\"\", suffix=\"\"):\n",
    "\n",
    "    batch_index = 0\n",
    "    batch_dir_fmt = \"{}_{}_{}\"\n",
    "    if suffix == \"front\":\n",
    "        max_img_per_batch = 50\n",
    "    else:\n",
    "        max_img_per_batch = 100\n",
    "\n",
    "    for index, img_fp in tqdm_notebook(enumerate(img_fps)):\n",
    "\n",
    "        saved_batch_dir = os.path.join(save_image_fd, batch_dir_fmt.format(batch_index, type_id, suffix))\n",
    "        if not os.path.exists(saved_batch_dir):\n",
    "            os.mkdir(saved_batch_dir)\n",
    "\n",
    "        img_fn = img_fp.strip(\"/\").split(\"/\")[-1]\n",
    "        new_img_fn = os.path.join(saved_batch_dir, img_fn)\n",
    "        shutil.copy(img_fp, new_img_fn)\n",
    "\n",
    "        if ((index + 1) % max_img_per_batch == 0 and index > 0) or index == len(img_fps) - 1:\n",
    "            shutil.make_archive(\n",
    "                saved_batch_dir,\n",
    "                \"zip\", saved_batch_dir\n",
    "            )\n",
    "            batch_index += 1\n",
    "            \n",
    "#         if index == 101:\n",
    "#             break\n",
    "\n",
    "    print(batch_index)\n",
    "    shutil.make_archive(\n",
    "        saved_batch_dir,\n",
    "        \"zip\", saved_batch_dir\n",
    "    )\n",
    "    print(\">>> Completed!\")"
   ]
  },
  {
   "cell_type": "code",
   "execution_count": 32,
   "metadata": {},
   "outputs": [
    {
     "name": "stderr",
     "output_type": "stream",
     "text": [
      "/home/phan.huy.hoang/.local/lib/python3.6/site-packages/ipykernel_launcher.py:10: TqdmDeprecationWarning: This function will be removed in tqdm==5.0.0\n",
      "Please use `tqdm.notebook.tqdm` instead of `tqdm.tqdm_notebook`\n",
      "  # Remove the CWD from sys.path while we load stuff.\n"
     ]
    },
    {
     "data": {
      "application/vnd.jupyter.widget-view+json": {
       "model_id": "9fa733f7ed964963b6a0cb81d48fd17b",
       "version_major": 2,
       "version_minor": 0
      },
      "text/plain": [
       "0it [00:00, ?it/s]"
      ]
     },
     "metadata": {},
     "output_type": "display_data"
    },
    {
     "name": "stdout",
     "output_type": "stream",
     "text": [
      "26\n",
      "'>>> Completed!'\n"
     ]
    },
    {
     "data": {
      "application/vnd.jupyter.widget-view+json": {
       "model_id": "a3889985d1af4cc8bd8ffeb34d7b51d1",
       "version_major": 2,
       "version_minor": 0
      },
      "text/plain": [
       "0it [00:00, ?it/s]"
      ]
     },
     "metadata": {},
     "output_type": "display_data"
    },
    {
     "name": "stdout",
     "output_type": "stream",
     "text": [
      "12\n",
      "'>>> Completed!'\n"
     ]
    },
    {
     "data": {
      "application/vnd.jupyter.widget-view+json": {
       "model_id": "782e21f8563340d380d9a099e784f9f9",
       "version_major": 2,
       "version_minor": 0
      },
      "text/plain": [
       "0it [00:00, ?it/s]"
      ]
     },
     "metadata": {},
     "output_type": "display_data"
    },
    {
     "name": "stdout",
     "output_type": "stream",
     "text": [
      "14\n",
      "'>>> Completed!'\n"
     ]
    },
    {
     "data": {
      "application/vnd.jupyter.widget-view+json": {
       "model_id": "97a420acfbd84351a931b4cb7a66ee9a",
       "version_major": 2,
       "version_minor": 0
      },
      "text/plain": [
       "0it [00:00, ?it/s]"
      ]
     },
     "metadata": {},
     "output_type": "display_data"
    },
    {
     "name": "stdout",
     "output_type": "stream",
     "text": [
      "7\n",
      "'>>> Completed!'\n"
     ]
    }
   ],
   "source": [
    "create_batches_image(cmnd_front_fps, type_id=\"cmnd\", suffix=\"front\")\n",
    "create_batches_image(cmnd_back_fps, type_id=\"cmnd\", suffix=\"back\")\n",
    "create_batches_image(cccd_front_fps, type_id=\"cccd\", suffix=\"front\")\n",
    "create_batches_image(cccd_back_fps, type_id=\"cccd\", suffix=\"back\")"
   ]
  },
  {
   "cell_type": "code",
   "execution_count": null,
   "metadata": {},
   "outputs": [],
   "source": []
  },
  {
   "cell_type": "markdown",
   "metadata": {},
   "source": [
    "### Upload to CVAT"
   ]
  },
  {
   "cell_type": "code",
   "execution_count": 33,
   "metadata": {},
   "outputs": [
    {
     "name": "stdout",
     "output_type": "stream",
     "text": [
      "59\n"
     ]
    }
   ],
   "source": [
    "zip_fps = sorted(glob.glob(os.path.join(save_image_fd, \"*.zip\")))\n",
    "print(len(zip_fps))"
   ]
  },
  {
   "cell_type": "code",
   "execution_count": 34,
   "metadata": {},
   "outputs": [
    {
     "name": "stderr",
     "output_type": "stream",
     "text": [
      "\r",
      "  0%|          | 0/59 [00:00<?, ?it/s]"
     ]
    },
    {
     "name": "stdout",
     "output_type": "stream",
     "text": [
      "<Response [201]>\n"
     ]
    },
    {
     "name": "stderr",
     "output_type": "stream",
     "text": [
      "\r",
      "  2%|▏         | 1/59 [00:24<23:45, 24.58s/it]"
     ]
    },
    {
     "name": "stdout",
     "output_type": "stream",
     "text": [
      "<Response [201]>\n"
     ]
    },
    {
     "name": "stderr",
     "output_type": "stream",
     "text": [
      "\r",
      "  3%|▎         | 2/59 [00:41<18:57, 19.96s/it]"
     ]
    },
    {
     "name": "stdout",
     "output_type": "stream",
     "text": [
      "<Response [201]>\n"
     ]
    },
    {
     "name": "stderr",
     "output_type": "stream",
     "text": [
      "\r",
      "  5%|▌         | 3/59 [01:04<20:00, 21.43s/it]"
     ]
    },
    {
     "name": "stdout",
     "output_type": "stream",
     "text": [
      "<Response [201]>\n"
     ]
    },
    {
     "name": "stderr",
     "output_type": "stream",
     "text": [
      "\r",
      "  7%|▋         | 4/59 [01:23<18:35, 20.28s/it]"
     ]
    },
    {
     "name": "stdout",
     "output_type": "stream",
     "text": [
      "<Response [201]>\n"
     ]
    },
    {
     "name": "stderr",
     "output_type": "stream",
     "text": [
      "\r",
      "  8%|▊         | 5/59 [02:38<36:10, 40.20s/it]"
     ]
    },
    {
     "name": "stdout",
     "output_type": "stream",
     "text": [
      "<Response [201]>\n"
     ]
    },
    {
     "name": "stderr",
     "output_type": "stream",
     "text": [
      "\r",
      " 10%|█         | 6/59 [05:36<1:16:55, 87.08s/it]"
     ]
    },
    {
     "name": "stdout",
     "output_type": "stream",
     "text": [
      "<Response [201]>\n"
     ]
    },
    {
     "name": "stderr",
     "output_type": "stream",
     "text": [
      "\r",
      " 12%|█▏        | 7/59 [07:37<1:24:54, 97.98s/it]"
     ]
    },
    {
     "name": "stdout",
     "output_type": "stream",
     "text": [
      "<Response [201]>\n"
     ]
    },
    {
     "name": "stderr",
     "output_type": "stream",
     "text": [
      "\r",
      " 14%|█▎        | 8/59 [09:21<1:25:01, 100.02s/it]"
     ]
    },
    {
     "name": "stdout",
     "output_type": "stream",
     "text": [
      "<Response [201]>\n"
     ]
    },
    {
     "name": "stderr",
     "output_type": "stream",
     "text": [
      "\r",
      " 15%|█▌        | 9/59 [10:40<1:17:51, 93.44s/it] "
     ]
    },
    {
     "name": "stdout",
     "output_type": "stream",
     "text": [
      "<Response [201]>\n"
     ]
    },
    {
     "name": "stderr",
     "output_type": "stream",
     "text": [
      "\r",
      " 17%|█▋        | 10/59 [12:45<1:24:10, 103.08s/it]"
     ]
    },
    {
     "name": "stdout",
     "output_type": "stream",
     "text": [
      "<Response [201]>\n"
     ]
    },
    {
     "name": "stderr",
     "output_type": "stream",
     "text": [
      "\r",
      " 19%|█▊        | 11/59 [13:57<1:14:59, 93.74s/it] "
     ]
    },
    {
     "name": "stdout",
     "output_type": "stream",
     "text": [
      "<Response [201]>\n"
     ]
    },
    {
     "name": "stderr",
     "output_type": "stream",
     "text": [
      "\r",
      " 20%|██        | 12/59 [15:56<1:19:30, 101.50s/it]"
     ]
    },
    {
     "name": "stdout",
     "output_type": "stream",
     "text": [
      "<Response [201]>\n"
     ]
    },
    {
     "name": "stderr",
     "output_type": "stream",
     "text": [
      "\r",
      " 22%|██▏       | 13/59 [17:23<1:14:18, 96.93s/it] "
     ]
    },
    {
     "name": "stdout",
     "output_type": "stream",
     "text": [
      "<Response [201]>\n"
     ]
    },
    {
     "name": "stderr",
     "output_type": "stream",
     "text": [
      "\r",
      " 24%|██▎       | 14/59 [19:25<1:18:21, 104.47s/it]"
     ]
    },
    {
     "name": "stdout",
     "output_type": "stream",
     "text": [
      "<Response [201]>\n"
     ]
    },
    {
     "name": "stderr",
     "output_type": "stream",
     "text": [
      "\r",
      " 25%|██▌       | 15/59 [21:22<1:19:25, 108.30s/it]"
     ]
    },
    {
     "name": "stdout",
     "output_type": "stream",
     "text": [
      "<Response [201]>\n"
     ]
    },
    {
     "name": "stderr",
     "output_type": "stream",
     "text": [
      "\r",
      " 27%|██▋       | 16/59 [23:14<1:18:31, 109.57s/it]"
     ]
    },
    {
     "name": "stdout",
     "output_type": "stream",
     "text": [
      "<Response [201]>\n"
     ]
    },
    {
     "name": "stderr",
     "output_type": "stream",
     "text": [
      "\r",
      " 29%|██▉       | 17/59 [24:52<1:14:13, 106.03s/it]"
     ]
    },
    {
     "name": "stdout",
     "output_type": "stream",
     "text": [
      "<Response [201]>\n"
     ]
    },
    {
     "name": "stderr",
     "output_type": "stream",
     "text": [
      "\r",
      " 31%|███       | 18/59 [26:45<1:13:55, 108.19s/it]"
     ]
    },
    {
     "name": "stdout",
     "output_type": "stream",
     "text": [
      "<Response [201]>\n"
     ]
    },
    {
     "name": "stderr",
     "output_type": "stream",
     "text": [
      "\r",
      " 32%|███▏      | 19/59 [28:29<1:11:11, 106.79s/it]"
     ]
    },
    {
     "name": "stdout",
     "output_type": "stream",
     "text": [
      "<Response [201]>\n"
     ]
    },
    {
     "name": "stderr",
     "output_type": "stream",
     "text": [
      "\r",
      " 34%|███▍      | 20/59 [30:33<1:12:42, 111.85s/it]"
     ]
    },
    {
     "name": "stdout",
     "output_type": "stream",
     "text": [
      "<Response [201]>\n"
     ]
    },
    {
     "name": "stderr",
     "output_type": "stream",
     "text": [
      "\r",
      " 36%|███▌      | 21/59 [34:46<1:37:50, 154.50s/it]"
     ]
    },
    {
     "name": "stdout",
     "output_type": "stream",
     "text": [
      "<Response [201]>\n"
     ]
    },
    {
     "name": "stderr",
     "output_type": "stream",
     "text": [
      "\r",
      " 37%|███▋      | 22/59 [36:18<1:23:35, 135.55s/it]"
     ]
    },
    {
     "name": "stdout",
     "output_type": "stream",
     "text": [
      "<Response [201]>\n"
     ]
    },
    {
     "name": "stderr",
     "output_type": "stream",
     "text": [
      "\r",
      " 39%|███▉      | 23/59 [39:34<1:32:12, 153.68s/it]"
     ]
    },
    {
     "name": "stdout",
     "output_type": "stream",
     "text": [
      "<Response [201]>\n"
     ]
    },
    {
     "name": "stderr",
     "output_type": "stream",
     "text": [
      "\r",
      " 41%|████      | 24/59 [41:44<1:25:31, 146.61s/it]"
     ]
    },
    {
     "name": "stdout",
     "output_type": "stream",
     "text": [
      "<Response [201]>\n"
     ]
    },
    {
     "name": "stderr",
     "output_type": "stream",
     "text": [
      "\r",
      " 42%|████▏     | 25/59 [44:15<1:23:47, 147.87s/it]"
     ]
    },
    {
     "name": "stdout",
     "output_type": "stream",
     "text": [
      "<Response [201]>\n"
     ]
    },
    {
     "name": "stderr",
     "output_type": "stream",
     "text": [
      "\r",
      " 44%|████▍     | 26/59 [46:37<1:20:26, 146.25s/it]"
     ]
    },
    {
     "name": "stdout",
     "output_type": "stream",
     "text": [
      "<Response [201]>\n"
     ]
    },
    {
     "name": "stderr",
     "output_type": "stream",
     "text": [
      "\r",
      " 46%|████▌     | 27/59 [49:03<1:17:52, 146.02s/it]"
     ]
    },
    {
     "name": "stdout",
     "output_type": "stream",
     "text": [
      "<Response [201]>\n"
     ]
    },
    {
     "name": "stderr",
     "output_type": "stream",
     "text": [
      "\r",
      " 47%|████▋     | 28/59 [51:09<1:12:19, 139.97s/it]"
     ]
    },
    {
     "name": "stdout",
     "output_type": "stream",
     "text": [
      "<Response [201]>\n"
     ]
    },
    {
     "name": "stderr",
     "output_type": "stream",
     "text": [
      "\r",
      " 49%|████▉     | 29/59 [53:27<1:09:49, 139.64s/it]"
     ]
    },
    {
     "name": "stdout",
     "output_type": "stream",
     "text": [
      "<Response [201]>\n"
     ]
    },
    {
     "name": "stderr",
     "output_type": "stream",
     "text": [
      "\r",
      " 51%|█████     | 30/59 [54:20<54:49, 113.44s/it]  "
     ]
    },
    {
     "name": "stdout",
     "output_type": "stream",
     "text": [
      "<Response [201]>\n"
     ]
    },
    {
     "name": "stderr",
     "output_type": "stream",
     "text": [
      "\r",
      " 53%|█████▎    | 31/59 [58:03<1:08:16, 146.30s/it]"
     ]
    },
    {
     "name": "stdout",
     "output_type": "stream",
     "text": [
      "<Response [201]>\n"
     ]
    },
    {
     "name": "stderr",
     "output_type": "stream",
     "text": [
      "\r",
      " 54%|█████▍    | 32/59 [59:47<1:00:13, 133.84s/it]"
     ]
    },
    {
     "name": "stdout",
     "output_type": "stream",
     "text": [
      "<Response [201]>\n"
     ]
    },
    {
     "name": "stderr",
     "output_type": "stream",
     "text": [
      "\r",
      " 56%|█████▌    | 33/59 [1:03:41<1:11:00, 163.88s/it]"
     ]
    },
    {
     "name": "stdout",
     "output_type": "stream",
     "text": [
      "<Response [201]>\n"
     ]
    },
    {
     "name": "stderr",
     "output_type": "stream",
     "text": [
      "\r",
      " 58%|█████▊    | 34/59 [1:03:56<49:38, 119.15s/it]  "
     ]
    },
    {
     "name": "stdout",
     "output_type": "stream",
     "text": [
      "<Response [201]>\n"
     ]
    },
    {
     "name": "stderr",
     "output_type": "stream",
     "text": [
      "\r",
      " 59%|█████▉    | 35/59 [1:04:10<35:00, 87.52s/it] "
     ]
    },
    {
     "name": "stdout",
     "output_type": "stream",
     "text": [
      "<Response [201]>\n"
     ]
    },
    {
     "name": "stderr",
     "output_type": "stream",
     "text": [
      "\r",
      " 61%|██████    | 36/59 [1:04:22<24:53, 64.91s/it]"
     ]
    },
    {
     "name": "stdout",
     "output_type": "stream",
     "text": [
      "<Response [201]>\n"
     ]
    },
    {
     "name": "stderr",
     "output_type": "stream",
     "text": [
      "\r",
      " 63%|██████▎   | 37/59 [1:04:36<18:10, 49.57s/it]"
     ]
    },
    {
     "name": "stdout",
     "output_type": "stream",
     "text": [
      "<Response [201]>\n"
     ]
    },
    {
     "name": "stderr",
     "output_type": "stream",
     "text": [
      "\r",
      " 64%|██████▍   | 38/59 [1:04:48<13:26, 38.41s/it]"
     ]
    },
    {
     "name": "stdout",
     "output_type": "stream",
     "text": [
      "<Response [201]>\n"
     ]
    },
    {
     "name": "stderr",
     "output_type": "stream",
     "text": [
      "\r",
      " 66%|██████▌   | 39/59 [1:05:02<10:22, 31.10s/it]"
     ]
    },
    {
     "name": "stdout",
     "output_type": "stream",
     "text": [
      "<Response [201]>\n"
     ]
    },
    {
     "name": "stderr",
     "output_type": "stream",
     "text": [
      "\r",
      " 68%|██████▊   | 40/59 [1:05:15<08:03, 25.47s/it]"
     ]
    },
    {
     "name": "stdout",
     "output_type": "stream",
     "text": [
      "<Response [201]>\n"
     ]
    },
    {
     "name": "stderr",
     "output_type": "stream",
     "text": [
      "\r",
      " 69%|██████▉   | 41/59 [1:05:28<06:35, 21.97s/it]"
     ]
    },
    {
     "name": "stdout",
     "output_type": "stream",
     "text": [
      "<Response [201]>\n"
     ]
    },
    {
     "name": "stderr",
     "output_type": "stream",
     "text": [
      "\r",
      " 71%|███████   | 42/59 [1:05:41<05:24, 19.07s/it]"
     ]
    },
    {
     "name": "stdout",
     "output_type": "stream",
     "text": [
      "<Response [201]>\n"
     ]
    },
    {
     "name": "stderr",
     "output_type": "stream",
     "text": [
      "\r",
      " 73%|███████▎  | 43/59 [1:05:55<04:41, 17.57s/it]"
     ]
    },
    {
     "name": "stdout",
     "output_type": "stream",
     "text": [
      "<Response [201]>\n"
     ]
    },
    {
     "name": "stderr",
     "output_type": "stream",
     "text": [
      "\r",
      " 75%|███████▍  | 44/59 [1:06:07<04:00, 16.02s/it]"
     ]
    },
    {
     "name": "stdout",
     "output_type": "stream",
     "text": [
      "<Response [201]>\n"
     ]
    },
    {
     "name": "stderr",
     "output_type": "stream",
     "text": [
      "\r",
      " 76%|███████▋  | 45/59 [1:06:21<03:33, 15.28s/it]"
     ]
    },
    {
     "name": "stdout",
     "output_type": "stream",
     "text": [
      "<Response [201]>\n"
     ]
    },
    {
     "name": "stderr",
     "output_type": "stream",
     "text": [
      "\r",
      " 78%|███████▊  | 46/59 [1:06:33<03:06, 14.37s/it]"
     ]
    },
    {
     "name": "stdout",
     "output_type": "stream",
     "text": [
      "<Response [201]>\n"
     ]
    },
    {
     "name": "stderr",
     "output_type": "stream",
     "text": [
      "\r",
      " 80%|███████▉  | 47/59 [1:06:44<02:41, 13.44s/it]"
     ]
    },
    {
     "name": "stdout",
     "output_type": "stream",
     "text": [
      "<Response [201]>\n"
     ]
    },
    {
     "name": "stderr",
     "output_type": "stream",
     "text": [
      "\r",
      " 81%|████████▏ | 48/59 [1:06:56<02:23, 13.02s/it]"
     ]
    },
    {
     "name": "stdout",
     "output_type": "stream",
     "text": [
      "<Response [201]>\n"
     ]
    },
    {
     "name": "stderr",
     "output_type": "stream",
     "text": [
      "\r",
      " 83%|████████▎ | 49/59 [1:07:10<02:11, 13.18s/it]"
     ]
    },
    {
     "name": "stdout",
     "output_type": "stream",
     "text": [
      "<Response [201]>\n"
     ]
    },
    {
     "name": "stderr",
     "output_type": "stream",
     "text": [
      "\r",
      " 85%|████████▍ | 50/59 [1:07:22<01:56, 12.98s/it]"
     ]
    },
    {
     "name": "stdout",
     "output_type": "stream",
     "text": [
      "<Response [201]>\n"
     ]
    },
    {
     "name": "stderr",
     "output_type": "stream",
     "text": [
      "\r",
      " 86%|████████▋ | 51/59 [1:07:34<01:41, 12.69s/it]"
     ]
    },
    {
     "name": "stdout",
     "output_type": "stream",
     "text": [
      "<Response [201]>\n"
     ]
    },
    {
     "name": "stderr",
     "output_type": "stream",
     "text": [
      "\r",
      " 88%|████████▊ | 52/59 [1:07:48<01:30, 12.90s/it]"
     ]
    },
    {
     "name": "stdout",
     "output_type": "stream",
     "text": [
      "<Response [201]>\n"
     ]
    },
    {
     "name": "stderr",
     "output_type": "stream",
     "text": [
      "\r",
      " 90%|████████▉ | 53/59 [1:08:00<01:16, 12.76s/it]"
     ]
    },
    {
     "name": "stdout",
     "output_type": "stream",
     "text": [
      "<Response [201]>\n"
     ]
    },
    {
     "name": "stderr",
     "output_type": "stream",
     "text": [
      "\r",
      " 92%|█████████▏| 54/59 [1:08:12<01:02, 12.53s/it]"
     ]
    },
    {
     "name": "stdout",
     "output_type": "stream",
     "text": [
      "<Response [201]>\n"
     ]
    },
    {
     "name": "stderr",
     "output_type": "stream",
     "text": [
      "\r",
      " 93%|█████████▎| 55/59 [1:08:26<00:51, 12.77s/it]"
     ]
    },
    {
     "name": "stdout",
     "output_type": "stream",
     "text": [
      "<Response [201]>\n"
     ]
    },
    {
     "name": "stderr",
     "output_type": "stream",
     "text": [
      "\r",
      " 95%|█████████▍| 56/59 [1:08:38<00:38, 12.75s/it]"
     ]
    },
    {
     "name": "stdout",
     "output_type": "stream",
     "text": [
      "<Response [201]>\n"
     ]
    },
    {
     "name": "stderr",
     "output_type": "stream",
     "text": [
      "\r",
      " 97%|█████████▋| 57/59 [1:08:50<00:25, 12.52s/it]"
     ]
    },
    {
     "name": "stdout",
     "output_type": "stream",
     "text": [
      "<Response [201]>\n"
     ]
    },
    {
     "name": "stderr",
     "output_type": "stream",
     "text": [
      "\r",
      " 98%|█████████▊| 58/59 [1:09:04<00:12, 12.90s/it]"
     ]
    },
    {
     "name": "stdout",
     "output_type": "stream",
     "text": [
      "<Response [201]>\n"
     ]
    },
    {
     "name": "stderr",
     "output_type": "stream",
     "text": [
      "100%|██████████| 59/59 [1:09:17<00:00, 70.46s/it]\n"
     ]
    }
   ],
   "source": [
    "for i, (zip_fp, _) in tqdm(enumerate(zip(zip_fps, zip_fps)), total=len(zip_fps)):\n",
    "\n",
    "    zip_fn = zip_fp.split(\"/\")[-1]\n",
    "    *_, type_id, suffix = zip_fn[:-4].split(\"_\")\n",
    "    \n",
    "    if type_id == \"cmnd\":\n",
    "        args.labels = CMND_LABELS\n",
    "    elif type_id == \"cccd\":\n",
    "        args.labels = CCCD_LABELS\n",
    "    else:\n",
    "        raise NotImplementedError()\n",
    "    \n",
    "    args.annotation_path = \"\"\n",
    "    args.resources = [zip_fp]\n",
    "    task_name = \"[eKYC_DETECTOR]{}_{}_{}\".format(int(time.time()), type_id, suffix)\n",
    "    args.name = task_name\n",
    "\n",
    "    with requests.Session() as session:\n",
    "        api = CVAT_API_V1('{}:{}'.format(args.server_host, args.server_port), args.https)\n",
    "        cli = CLI(session, api, args.auth)\n",
    "\n",
    "        args.action = \"create\"\n",
    "#         task_json, resp_json = actions[\"create\"](cli, **args.__dict__)\n",
    "        res = actions[\"create\"](cli, **args.__dict__)\n",
    "        gc.collect()\n",
    "\n",
    "    time.sleep(10)"
   ]
  },
  {
   "cell_type": "code",
   "execution_count": 35,
   "metadata": {},
   "outputs": [
    {
     "data": {
      "text/plain": [
       "11.8"
      ]
     },
     "execution_count": 35,
     "metadata": {},
     "output_type": "execute_result"
    }
   ],
   "source": [
    "len(zip_fps) / 5"
   ]
  },
  {
   "cell_type": "code",
   "execution_count": null,
   "metadata": {},
   "outputs": [],
   "source": []
  }
 ],
 "metadata": {
  "kernelspec": {
   "display_name": "hoangph36_env",
   "language": "python",
   "name": "hoangph36_env"
  },
  "language_info": {
   "codemirror_mode": {
    "name": "ipython",
    "version": 3
   },
   "file_extension": ".py",
   "mimetype": "text/x-python",
   "name": "python",
   "nbconvert_exporter": "python",
   "pygments_lexer": "ipython3",
   "version": "3.6.10"
  }
 },
 "nbformat": 4,
 "nbformat_minor": 4
}
