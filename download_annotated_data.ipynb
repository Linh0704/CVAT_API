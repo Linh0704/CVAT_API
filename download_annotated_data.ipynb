{
 "cells": [
  {
   "cell_type": "code",
   "execution_count": 1,
   "metadata": {},
   "outputs": [],
   "source": [
    "%load_ext autoreload\n",
    "%autoreload 2"
   ]
  },
  {
   "cell_type": "code",
   "execution_count": 2,
   "metadata": {},
   "outputs": [],
   "source": [
    "import sys\n",
    "import uuid\n",
    "import logging\n",
    "import getpass\n",
    "import numpy as np\n",
    "import cv2\n",
    "import os\n",
    "import gc\n",
    "import time\n",
    "import imageio\n",
    "import random\n",
    "import copy\n",
    "import glob\n",
    "import json\n",
    "import shutil\n",
    "import pickle\n",
    "import traceback\n",
    "from collections import Counter\n",
    "from pprint import pprint as print"
   ]
  },
  {
   "cell_type": "code",
   "execution_count": 3,
   "metadata": {},
   "outputs": [],
   "source": [
    "from tqdm import tqdm, tqdm_notebook\n",
    "import requests"
   ]
  },
  {
   "cell_type": "code",
   "execution_count": 4,
   "metadata": {},
   "outputs": [],
   "source": [
    "from test_api import CLI, CVAT_API_V1, ResourceType"
   ]
  },
  {
   "cell_type": "code",
   "execution_count": 5,
   "metadata": {},
   "outputs": [],
   "source": [
    "class Args:\n",
    "    \n",
    "    def __init__(self, action=\"create\"):\n",
    "        \n",
    "        self.action = action\n",
    "        self.auth = (\"\", \"\")  # type tuple\n",
    "        self.server_host = \"\"\n",
    "        self.server_port = 8080\n",
    "        self.https = False\n",
    "        self.loglevel = 20\n",
    "\n",
    "        self.name = \"test\"\n",
    "        self.labels = [{\"name\":\"text\", \"attributes\": []}]  # type list\n",
    "        self.overlap = 0\n",
    "        self.segment_size = 0\n",
    "        self.bug = \"\"\n",
    "        self.resource_type = ResourceType(0)\n",
    "        self.resources = [\"/home/phan.huy.hoang/Pictures/test_img_cvat.zip\"]\n",
    "        self.annotation_path = \"/home/phan.huy.hoang/cvat/utils/cli/instances_default.json\"\n",
    "        self.annotation_format = \"COCO 1.0\"\n",
    "\n",
    "        # for git only\n",
    "        self.completion_verification_period = 10\n",
    "        self.dataset_repository_url = \"\"\n",
    "        self.lfs = False\n",
    "\n",
    "args = Args()"
   ]
  },
  {
   "cell_type": "code",
   "execution_count": null,
   "metadata": {},
   "outputs": [],
   "source": [
    "CVAT_URL = \"http://{}:{}/\".format(args.server_host, args.server_port)\n",
    "API_URL = CVAT_URL + \"api/v1/\"\n",
    "username, password = args.auth\n",
    "username, password"
   ]
  },
  {
   "cell_type": "code",
   "execution_count": 7,
   "metadata": {},
   "outputs": [],
   "source": [
    "def get_cookies():\n",
    "    login_json = {\"username\": username, \"password\": password}\n",
    "    login_req = requests.post(API_URL + 'auth/login', json=login_json)\n",
    "    cookies = login_req.cookies\n",
    "    return cookies\n",
    "\n",
    "cookies = get_cookies()"
   ]
  },
  {
   "cell_type": "code",
   "execution_count": null,
   "metadata": {},
   "outputs": [],
   "source": [
    "req = requests.get(\"{}/api/v1/tasks/530\".format(CVAT_URL), cookies=cookies)\n",
    "req.text"
   ]
  },
  {
   "cell_type": "markdown",
   "metadata": {},
   "source": [
    "### List all available tasks\n",
    "\n",
    "- stamp + table detection: id from 325 -> 530"
   ]
  },
  {
   "cell_type": "code",
   "execution_count": 9,
   "metadata": {},
   "outputs": [],
   "source": [
    "with requests.Session() as session:\n",
    "    api = CVAT_API_V1('{}:{}'.format(args.server_host, args.server_port), args.https)\n",
    "    cli = CLI(session, api, args.auth)"
   ]
  },
  {
   "cell_type": "code",
   "execution_count": 10,
   "metadata": {},
   "outputs": [],
   "source": [
    "res = cli.tasks_list(use_json_output=True)"
   ]
  },
  {
   "cell_type": "code",
   "execution_count": 11,
   "metadata": {},
   "outputs": [
    {
     "data": {
      "text/plain": [
       "206"
      ]
     },
     "execution_count": 11,
     "metadata": {},
     "output_type": "execute_result"
    }
   ],
   "source": [
    "len(res)  # number of tasks"
   ]
  },
  {
   "cell_type": "code",
   "execution_count": 12,
   "metadata": {},
   "outputs": [],
   "source": [
    "task_ids = [i[\"id\"] for i in res]"
   ]
  },
  {
   "cell_type": "code",
   "execution_count": 13,
   "metadata": {},
   "outputs": [
    {
     "data": {
      "text/plain": [
       "530"
      ]
     },
     "execution_count": 13,
     "metadata": {},
     "output_type": "execute_result"
    }
   ],
   "source": [
    "task_ids[0]"
   ]
  },
  {
   "cell_type": "markdown",
   "metadata": {},
   "source": [
    "### Download annotated data from each task"
   ]
  },
  {
   "cell_type": "code",
   "execution_count": 14,
   "metadata": {},
   "outputs": [],
   "source": [
    "task_id = task_ids[0]"
   ]
  },
  {
   "cell_type": "code",
   "execution_count": 15,
   "metadata": {},
   "outputs": [],
   "source": [
    "# change save folder <<<<<<<<<<\n",
    "saved_dir = \"./dump/annotated_data/stamp_table\""
   ]
  },
  {
   "cell_type": "code",
   "execution_count": 16,
   "metadata": {},
   "outputs": [],
   "source": [
    "# download as zip file\n",
    "res = cli.tasks_dump(task_id, \"COCO 1.0\", os.path.join(saved_dir, \"{}.zip\".format(task_id)))"
   ]
  },
  {
   "cell_type": "code",
   "execution_count": 18,
   "metadata": {},
   "outputs": [],
   "source": [
    "# file will save in the folder: $saved_dir/530.zip"
   ]
  },
  {
   "cell_type": "code",
   "execution_count": null,
   "metadata": {},
   "outputs": [],
   "source": [
    "# download data from all tasks\n",
    "for task_id in tqdm_notebook(task_ids):\n",
    "    cli.tasks_dump(task_id, \"COCO 1.0\", os.path.join(saved_dir, \"{}.zip\".format(task_id)))"
   ]
  }
 ],
 "metadata": {
  "kernelspec": {
   "display_name": "hoangph36_env",
   "language": "python",
   "name": "hoangph36_env"
  },
  "language_info": {
   "codemirror_mode": {
    "name": "ipython",
    "version": 3
   },
   "file_extension": ".py",
   "mimetype": "text/x-python",
   "name": "python",
   "nbconvert_exporter": "python",
   "pygments_lexer": "ipython3",
   "version": "3.6.10"
  }
 },
 "nbformat": 4,
 "nbformat_minor": 4
}
