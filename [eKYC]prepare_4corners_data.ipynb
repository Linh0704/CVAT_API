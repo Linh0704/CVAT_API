{
 "cells": [
  {
   "cell_type": "code",
   "execution_count": 1,
   "metadata": {},
   "outputs": [],
   "source": [
    "%load_ext autoreload\n",
    "%autoreload 2"
   ]
  },
  {
   "cell_type": "code",
   "execution_count": 2,
   "metadata": {},
   "outputs": [],
   "source": [
    "import sys\n",
    "import uuid\n",
    "import logging\n",
    "import getpass\n",
    "import numpy as np\n",
    "import cv2\n",
    "import os\n",
    "import gc\n",
    "import time\n",
    "import imageio\n",
    "import random\n",
    "import shutil\n",
    "import copy\n",
    "import glob\n",
    "import json\n",
    "import shutil\n",
    "import pickle\n",
    "import traceback\n",
    "from collections import Counter\n",
    "from pprint import pprint as print"
   ]
  },
  {
   "cell_type": "code",
   "execution_count": 3,
   "metadata": {},
   "outputs": [],
   "source": [
    "import cv2\n",
    "import requests\n",
    "import numpy as np\n",
    "import matplotlib.pyplot as plt\n",
    "from scipy.io import loadmat\n",
    "from tqdm import tqdm, tqdm_notebook\n",
    "from PIL import Image, ImageDraw\n",
    "from shapely.geometry import Polygon\n",
    "import imgaug\n",
    "import imgaug as ia\n",
    "import imgaug.augmenters as iaa\n",
    "\n",
    "import torch\n",
    "from torch.utils.data import DataLoader"
   ]
  },
  {
   "cell_type": "code",
   "execution_count": 4,
   "metadata": {},
   "outputs": [],
   "source": [
    "def imshow(img, figsize=(16, 16)):\n",
    "    fig, ax = plt.subplots(1, 1, figsize=figsize)\n",
    "    ax.axis('off')\n",
    "    ax.imshow(img)"
   ]
  },
  {
   "cell_type": "code",
   "execution_count": null,
   "metadata": {},
   "outputs": [],
   "source": [
    "img_dir = \"/media/SUN-ASTERISK\\phan.huy.hoang/My Passport/phanhoang/data/CMT_CCCD/V1/images\""
   ]
  },
  {
   "cell_type": "code",
   "execution_count": null,
   "metadata": {},
   "outputs": [],
   "source": [
    "img_fps = glob.glob(os.path.join(img_dir, \"*.jpg\"))\n",
    "print(len(img_fps))"
   ]
  },
  {
   "cell_type": "code",
   "execution_count": null,
   "metadata": {},
   "outputs": [],
   "source": [
    "front_img_fps = sorted([i for i in img_fps if \"_front.\" in i])\n",
    "back_img_fps = sorted([i for i in img_fps if \"_back.\" in i])\n",
    "print(len(front_img_fps))\n",
    "print(len(back_img_fps))"
   ]
  },
  {
   "cell_type": "code",
   "execution_count": null,
   "metadata": {},
   "outputs": [],
   "source": [
    "save_image_fd = \"/media/SUN-ASTERISK\\phan.huy.hoang/My Passport/phanhoang/data/CMT_CCCD/CVAT/cropper\"\n",
    "assert os.path.exists(save_image_fd)"
   ]
  },
  {
   "cell_type": "code",
   "execution_count": null,
   "metadata": {},
   "outputs": [],
   "source": [
    "def remove_all_content(fd):\n",
    "    shutil.rmtree(fd)\n",
    "    os.mkdir(fd)\n",
    "    \n",
    "# remove_all_content(save_image_fd)"
   ]
  },
  {
   "cell_type": "code",
   "execution_count": null,
   "metadata": {},
   "outputs": [],
   "source": [
    "def create_batches_image(img_fps, suffix=\"\"):\n",
    "    # create batch image first\n",
    "    batch_index = 0\n",
    "    batch_dir_fmt = \"{}{}\"\n",
    "    max_img_per_batch = 200\n",
    "\n",
    "    for index, img_fp in tqdm_notebook(enumerate(img_fps)):\n",
    "\n",
    "        saved_batch_dir = os.path.join(save_image_fd, batch_dir_fmt.format(batch_index, suffix))\n",
    "        if not os.path.exists(saved_batch_dir):\n",
    "            os.mkdir(saved_batch_dir)\n",
    "\n",
    "        img_fn = img_fp.strip(\"/\").split(\"/\")[-1]\n",
    "        new_img_fn = os.path.join(saved_batch_dir, img_fn)\n",
    "        shutil.copy(img_fp, new_img_fn)\n",
    "\n",
    "        if ((index + 1) % max_img_per_batch == 0 and index > 0) or index == len(img_fps) - 1:\n",
    "            shutil.make_archive(\n",
    "                saved_batch_dir,\n",
    "                \"zip\", saved_batch_dir\n",
    "            )\n",
    "            batch_index += 1\n",
    "\n",
    "    print(batch_index)\n",
    "    shutil.make_archive(\n",
    "        saved_batch_dir,\n",
    "        \"zip\", saved_batch_dir\n",
    "    )\n",
    "    print(\">>> Completed!\")"
   ]
  },
  {
   "cell_type": "code",
   "execution_count": null,
   "metadata": {},
   "outputs": [],
   "source": [
    "create_batches_image(front_img_fps, suffix=\"_front\")\n",
    "create_batches_image(back_img_fps, suffix=\"_back\")"
   ]
  },
  {
   "cell_type": "code",
   "execution_count": null,
   "metadata": {},
   "outputs": [],
   "source": []
  },
  {
   "cell_type": "markdown",
   "metadata": {},
   "source": [
    "### Upload by CVAT API"
   ]
  },
  {
   "cell_type": "code",
   "execution_count": 12,
   "metadata": {},
   "outputs": [],
   "source": [
    "LABELS = [\n",
    "    {\"name\":\"top_left\", \"attributes\": []},\n",
    "    {\"name\":\"top_right\", \"attributes\": []},\n",
    "    {\"name\":\"bottom_left\", \"attributes\": []},\n",
    "    {\"name\":\"bottom_right\", \"attributes\": []},\n",
    "    {\"name\":\"national_emblem\", \"attributes\": []},\n",
    "    {\"name\":\"remove\", \"attributes\": []},\n",
    "]"
   ]
  },
  {
   "cell_type": "code",
   "execution_count": 13,
   "metadata": {},
   "outputs": [],
   "source": [
    "from test_api import CLI, CVAT_API_V1, ResourceType\n",
    "\n",
    "class Args:\n",
    "    \n",
    "    def __init__(self, action=\"create\"):\n",
    "        \n",
    "        self.action = action\n",
    "        self.auth = (\"\", \"\")  # type tuple\n",
    "        self.server_host = \"\"\n",
    "        self.server_port = 8080\n",
    "        self.https = False\n",
    "        self.loglevel = 20\n",
    "\n",
    "        self.name = \"test\"\n",
    "        self.labels = [{\"name\":\"text\", \"attributes\": []}]  # type list\n",
    "        self.overlap = 0\n",
    "        self.segment_size = 0\n",
    "        self.bug = \"\"\n",
    "        self.resource_type = ResourceType(0)\n",
    "        self.resources = [\"/home/phan.huy.hoang/Pictures/test_img_cvat.zip\"]\n",
    "        self.annotation_path = \"/home/phan.huy.hoang/cvat/utils/cli/instances_default.json\"\n",
    "        self.annotation_format = \"COCO 1.0\"\n",
    "\n",
    "        # for git only\n",
    "        self.completion_verification_period = 10\n",
    "        self.dataset_repository_url = \"\"\n",
    "        self.lfs = False\n",
    "\n",
    "args = Args()\n",
    "\n",
    "actions = {\n",
    "    'create': CLI.tasks_create,\n",
    "    'delete': CLI.tasks_delete,\n",
    "    'ls': CLI.tasks_list,\n",
    "    'frames': CLI.tasks_frame,\n",
    "    'dump': CLI.tasks_dump,\n",
    "    'upload': CLI.tasks_upload\n",
    "}"
   ]
  },
  {
   "cell_type": "code",
   "execution_count": null,
   "metadata": {},
   "outputs": [],
   "source": []
  },
  {
   "cell_type": "code",
   "execution_count": null,
   "metadata": {},
   "outputs": [],
   "source": [
    "zip_fps = sorted(glob.glob(os.path.join(save_image_fd, \"*.zip\")))\n",
    "for i, (zip_fp, _) in tqdm(enumerate(zip(zip_fps, zip_fps)), total=len(zip_fps)):\n",
    "    args.annotation_path = \"\"\n",
    "    args.resources = [zip_fp]\n",
    "    \n",
    "    if \"_front.zip\" in zip_fp:\n",
    "        mode = \"front\"\n",
    "    elif \"_back.zip\" in zip_fp:\n",
    "        mode = \"back\"\n",
    "    else:\n",
    "        raise NotImplementedError()\n",
    "\n",
    "    task_name = \"[eKYC_CROPPER]{}_{}\".format(int(time.time()), mode)\n",
    "    args.name = task_name\n",
    "\n",
    "    with requests.Session() as session:\n",
    "        api = CVAT_API_V1('{}:{}'.format(args.server_host, args.server_port), args.https)\n",
    "        cli = CLI(session, api, args.auth)\n",
    "\n",
    "        args.action = \"create\"\n",
    "#         task_json, resp_json = actions[\"create\"](cli, **args.__dict__)\n",
    "        res = actions[\"create\"](cli, **args.__dict__)\n",
    "        gc.collect()\n",
    "    \n",
    "    time.sleep(60)"
   ]
  },
  {
   "cell_type": "code",
   "execution_count": null,
   "metadata": {},
   "outputs": [],
   "source": []
  },
  {
   "cell_type": "markdown",
   "metadata": {},
   "source": [
    "### Thêm attributes trong object để tiến hành annotate cho OCR"
   ]
  },
  {
   "cell_type": "code",
   "execution_count": 14,
   "metadata": {},
   "outputs": [],
   "source": [
    "CVAT_URL = \"http://{}:{}/\".format(args.server_host, args.server_port)\n",
    "API_URL = CVAT_URL + \"api/v1/\"\n",
    "username, password = args.auth\n",
    "username, password\n",
    "\n",
    "def get_cookies():\n",
    "    login_json = {\"username\": username, \"password\": password}\n",
    "    login_req = requests.post(API_URL + 'auth/login', json=login_json)\n",
    "    cookies = login_req.cookies\n",
    "    return cookies\n",
    "\n",
    "cookies = get_cookies()"
   ]
  },
  {
   "cell_type": "code",
   "execution_count": 123,
   "metadata": {},
   "outputs": [],
   "source": [
    "JSON_UPDATE = {\n",
    "  \"labels\": [\n",
    "    {\n",
    "      \"id\": \"\",  # TODO\n",
    "      \"name\": \"\",  # TODO\n",
    "      \"attributes\": [\n",
    "        {\n",
    "          \"name\": \"type\",\n",
    "          \"mutable\": False,\n",
    "          \"input_type\": \"radio\",\n",
    "          \"default_value\": \"none\",\n",
    "          \"values\": [\n",
    "            \"cmnd\",\n",
    "            \"cccd\",\n",
    "            \"cccd_chip\",\n",
    "            \"none\"\n",
    "            ]\n",
    "        }\n",
    "      ],\n",
    "      \"deleted\": False\n",
    "    }\n",
    "  ]\n",
    "}\n",
    "\n",
    "REQ_URL = \"http://{}:{}/api/v1/tasks/{}\"  # task_id"
   ]
  },
  {
   "cell_type": "markdown",
   "metadata": {},
   "source": [
    "1043 --> 1062"
   ]
  },
  {
   "cell_type": "code",
   "execution_count": 126,
   "metadata": {},
   "outputs": [],
   "source": [
    "task_ids = range(1043, 1063)\n",
    "# task_ids = [1044]"
   ]
  },
  {
   "cell_type": "code",
   "execution_count": 127,
   "metadata": {},
   "outputs": [
    {
     "data": {
      "application/vnd.jupyter.widget-view+json": {
       "model_id": "e4f2f4c163494c0892f957c29a56dafd",
       "version_major": 2,
       "version_minor": 0
      },
      "text/plain": [
       "HBox(children=(IntProgress(value=0, max=20), HTML(value='')))"
      ]
     },
     "metadata": {},
     "output_type": "display_data"
    },
    {
     "name": "stdout",
     "output_type": "stream",
     "text": [
      "'1043: 200'\n",
      "'1044: 200'\n",
      "'1045: 200'\n",
      "'1046: 200'\n",
      "'1047: 200'\n",
      "'1048: 200'\n",
      "'1049: 200'\n",
      "'1050: 200'\n",
      "'1051: 200'\n",
      "'1052: 200'\n",
      "'1053: 200'\n",
      "'1054: 200'\n",
      "'1055: 200'\n",
      "'1056: 200'\n",
      "'1057: 200'\n",
      "'1058: 200'\n",
      "'1059: 200'\n",
      "'1060: 200'\n",
      "'1061: 200'\n",
      "'1062: 200'\n"
     ]
    }
   ],
   "source": [
    "for task_id in tqdm_notebook(task_ids):\n",
    "    req = requests.get(req_url.format(task_id), cookies=cookies)\n",
    "    assert req.status_code == 200\n",
    "    \n",
    "    for element in req.json()[\"labels\"]:\n",
    "        if element[\"name\"] == \"top_left\":\n",
    "            update_element = copy.deepcopy(element)\n",
    "            break\n",
    "            \n",
    "    json_update = copy.deepcopy(JSON_UPDATE)\n",
    "    json_update[\"labels\"][0][\"id\"] = update_element[\"id\"]\n",
    "    json_update[\"labels\"][0][\"name\"] = update_element[\"name\"]\n",
    "\n",
    "#     headers = {'X-CSRFToken': cookies['csrftoken']}\n",
    "    patch_req = requests.patch(\n",
    "        req_url.format(args.server_host, args.server_port, task_id),\n",
    "        json=json_update,\n",
    "        auth=(username, password),\n",
    "    #     OR\n",
    "    #     cookies=cookies,\n",
    "    #     headers=headers\n",
    "    )\n",
    "    print(\"{}: {}\".format(task_id, patch_req.status_code))\n",
    "    time.sleep(3)"
   ]
  },
  {
   "cell_type": "code",
   "execution_count": null,
   "metadata": {},
   "outputs": [],
   "source": []
  }
 ],
 "metadata": {
  "kernelspec": {
   "display_name": "hoangph36_env",
   "language": "python",
   "name": "hoangph36_env"
  },
  "language_info": {
   "codemirror_mode": {
    "name": "ipython",
    "version": 3
   },
   "file_extension": ".py",
   "mimetype": "text/x-python",
   "name": "python",
   "nbconvert_exporter": "python",
   "pygments_lexer": "ipython3",
   "version": "3.6.10"
  }
 },
 "nbformat": 4,
 "nbformat_minor": 4
}
