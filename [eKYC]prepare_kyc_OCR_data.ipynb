{
 "cells": [
  {
   "cell_type": "markdown",
   "id": "697273f8",
   "metadata": {},
   "source": [
    "## OCR"
   ]
  },
  {
   "cell_type": "code",
   "execution_count": 1,
   "id": "adfa9d27",
   "metadata": {},
   "outputs": [],
   "source": [
    "%load_ext autoreload\n",
    "%autoreload 2"
   ]
  },
  {
   "cell_type": "code",
   "execution_count": 2,
   "id": "cc6e60a6",
   "metadata": {},
   "outputs": [],
   "source": [
    "import sys\n",
    "import uuid\n",
    "import logging\n",
    "import getpass\n",
    "import numpy as np\n",
    "import cv2\n",
    "import os\n",
    "import gc\n",
    "import time\n",
    "# import imageio\n",
    "import random\n",
    "import shutil\n",
    "import copy\n",
    "import glob\n",
    "import json\n",
    "import shutil\n",
    "import pickle\n",
    "import traceback\n",
    "import zipfile\n",
    "from collections import Counter\n",
    "from pprint import pprint as print"
   ]
  },
  {
   "cell_type": "code",
   "execution_count": 3,
   "id": "f347178e",
   "metadata": {},
   "outputs": [],
   "source": [
    "import cv2\n",
    "import requests\n",
    "import numpy as np\n",
    "import pandas as pd\n",
    "import matplotlib.pyplot as plt\n",
    "from scipy.io import loadmat\n",
    "from tqdm import tqdm, tqdm_notebook\n",
    "from PIL import Image, ImageDraw, ExifTags\n",
    "# from shapely.geometry import Polygon\n",
    "# import imgaug\n",
    "# import imgaug as ia\n",
    "# import imgaug.augmenters as iaa\n",
    "# import skimage\n",
    "# from skimage import io, color\n",
    "import torch\n",
    "from torch.utils.data import DataLoader"
   ]
  },
  {
   "cell_type": "code",
   "execution_count": 4,
   "id": "f6b5f489",
   "metadata": {},
   "outputs": [],
   "source": [
    "from test_api import CLI, CVAT_API_V1, ResourceType"
   ]
  },
  {
   "cell_type": "code",
   "execution_count": 5,
   "id": "03df1481",
   "metadata": {},
   "outputs": [],
   "source": [
    "def imshow(img, figsize=(16, 16)):\n",
    "    fig, ax = plt.subplots(1, 1, figsize=figsize)\n",
    "    ax.axis('off')\n",
    "    ax.imshow(img)\n",
    "    \n",
    "def remove_all_content(fd):\n",
    "    shutil.rmtree(fd)\n",
    "    os.mkdir(fd)\n",
    "    \n",
    "def get_cookies():\n",
    "    login_json = {\"username\": username, \"password\": password}\n",
    "    login_req = requests.post(API_URL + 'auth/login', json=login_json)\n",
    "    cookies = login_req.cookies\n",
    "    return cookies\n",
    "\n",
    "def download_file(req, task_id):\n",
    "    with open(os.path.join(saved_dir, '{}.zip'.format(task_id)), 'wb') as f:\n",
    "        for chunk in req.iter_content(chunk_size=1024): \n",
    "            if chunk: # filter out keep-alive new chunks\n",
    "                f.write(chunk)\n",
    "    print(\"Task {}: download completed\".format(task_id))"
   ]
  },
  {
   "cell_type": "code",
   "execution_count": 6,
   "id": "e177b03e",
   "metadata": {},
   "outputs": [],
   "source": [
    "class Args:\n",
    "    \n",
    "    def __init__(self, action=\"create\"):\n",
    "        \n",
    "        self.action = action\n",
    "        self.auth = (\"LinhBD\", \"Aa@123456\")  # type tuple\n",
    "        self.server_host = \"139.162.12.110\"\n",
    "        self.server_port = 8080\n",
    "        self.https = False\n",
    "        self.loglevel = 20\n",
    "\n",
    "        self.name = \"test\"\n",
    "        self.labels = [{\"name\":\"text\", \"attributes\": []}]  # type list\n",
    "        self.overlap = 0\n",
    "        self.segment_size = 0\n",
    "        self.bug = \"\"\n",
    "        self.resource_type = ResourceType(0)\n",
    "        self.resources = [\"/home/phan.huy.hoang/Pictures/test_img_cvat.zip\"]\n",
    "        self.annotation_path = \"/home/phan.huy.hoang/cvat/utils/cli/instances_default.json\"\n",
    "        self.annotation_format = \"COCO 1.0\"\n",
    "\n",
    "        # for git only\n",
    "        self.completion_verification_period = 10\n",
    "        self.dataset_repository_url = \"\"\n",
    "        self.lfs = False"
   ]
  },
  {
   "cell_type": "code",
   "execution_count": 7,
   "id": "23439ed5",
   "metadata": {},
   "outputs": [],
   "source": [
    "img_dir = \"/home/doan.bao.linh/Downloads/data/kyc/OCR/images\""
   ]
  },
  {
   "cell_type": "code",
   "execution_count": 8,
   "id": "3634727d",
   "metadata": {},
   "outputs": [
    {
     "data": {
      "text/plain": [
       "('LinhBD', 'Aa@123456')"
      ]
     },
     "execution_count": 8,
     "metadata": {},
     "output_type": "execute_result"
    }
   ],
   "source": [
    "args = Args()\n",
    "CVAT_URL = \"http://{}:{}/\".format(args.server_host, args.server_port)\n",
    "API_URL = CVAT_URL + \"api/v1/\"\n",
    "username, password = args.auth\n",
    "username, password"
   ]
  },
  {
   "cell_type": "code",
   "execution_count": 9,
   "id": "9416303a",
   "metadata": {},
   "outputs": [
    {
     "data": {
      "text/plain": [
       "<RequestsCookieJar[Cookie(version=0, name='csrftoken', value='UMMNTMAen1R6rFGFmGR5dq5xcfr4zjG1m1shLoGk3tJ8JQWQ3ZiIhqRcGOizxYvF', port=None, port_specified=False, domain='139.162.12.110', domain_specified=False, domain_initial_dot=False, path='/', path_specified=True, secure=False, expires=1661758205, discard=False, comment=None, comment_url=None, rest={'SameSite': 'Lax'}, rfc2109=False), Cookie(version=0, name='sessionid', value='zj6mosz4l7k9b87sl1j3b1hotjvw0cya', port=None, port_specified=False, domain='139.162.12.110', domain_specified=False, domain_initial_dot=False, path='/', path_specified=True, secure=False, expires=1631518205, discard=False, comment=None, comment_url=None, rest={'HttpOnly': None, 'SameSite': 'Lax'}, rfc2109=False)]>"
      ]
     },
     "execution_count": 9,
     "metadata": {},
     "output_type": "execute_result"
    }
   ],
   "source": [
    "cookies = get_cookies()\n",
    "cookies"
   ]
  },
  {
   "cell_type": "code",
   "execution_count": 10,
   "id": "c18208f7",
   "metadata": {},
   "outputs": [
    {
     "data": {
      "text/plain": [
       "'{\"url\":\"http://139.162.12.110:8080/api/v1/tasks/94\",\"id\":94,\"name\":\"[eKYC_DETECTOR]1628603190_cmnd_unknown\",\"project_id\":null,\"mode\":\"annotation\",\"owner\":{\"url\":\"http://139.162.12.110:8080/api/v1/users/34\",\"id\":34,\"username\":\"admin\",\"first_name\":\"\",\"last_name\":\"\"},\"assignee\":null,\"bug_tracker\":\"\",\"created_date\":\"2021-08-10T13:46:31.108820Z\",\"updated_date\":\"2021-08-21T02:29:21.913051Z\",\"overlap\":0,\"segment_size\":100,\"status\":\"validation\",\"labels\":[{\"id\":1270,\"name\":\"remove\",\"color\":\"#ab8fb1\",\"attributes\":[{\"id\":1270,\"name\":\"text_label\",\"mutable\":false,\"input_type\":\"text\",\"default_value\":\"\",\"values\":[\"\"]}]},{\"id\":1269,\"name\":\"right_fingerprint\",\"color\":\"#b7350f\",\"attributes\":[{\"id\":1269,\"name\":\"text_label\",\"mutable\":false,\"input_type\":\"text\",\"default_value\":\"\",\"values\":[\"\"]}]},{\"id\":1268,\"name\":\"left_fingerprint\",\"color\":\"#14f8c0\",\"attributes\":[{\"id\":1268,\"name\":\"text_label\",\"mutable\":false,\"input_type\":\"text\",\"default_value\":\"\",\"values\":[\"\"]}]},{\"id\":1267,\"name\":\"personal_identification\",\"color\":\"#8f7f6c\",\"attributes\":[{\"id\":1267,\"name\":\"text_label\",\"mutable\":false,\"input_type\":\"text\",\"default_value\":\"\",\"values\":[\"\"]}]},{\"id\":1266,\"name\":\"issue_date\",\"color\":\"#6c8a40\",\"attributes\":[{\"id\":1266,\"name\":\"text_label\",\"mutable\":false,\"input_type\":\"text\",\"default_value\":\"\",\"values\":[\"\"]}]},{\"id\":1265,\"name\":\"religion\",\"color\":\"#51f37e\",\"attributes\":[{\"id\":1265,\"name\":\"text_label\",\"mutable\":false,\"input_type\":\"text\",\"default_value\":\"\",\"values\":[\"\"]}]},{\"id\":1264,\"name\":\"face\",\"color\":\"#db2c45\",\"attributes\":[{\"id\":1264,\"name\":\"text_label\",\"mutable\":false,\"input_type\":\"text\",\"default_value\":\"\",\"values\":[\"\"]}]},{\"id\":1263,\"name\":\"address\",\"color\":\"#599214\",\"attributes\":[{\"id\":1263,\"name\":\"text_label\",\"mutable\":false,\"input_type\":\"text\",\"default_value\":\"\",\"values\":[\"\"]}]},{\"id\":1262,\"name\":\"hometown\",\"color\":\"#6e5851\",\"attributes\":[{\"id\":1262,\"name\":\"text_label\",\"mutable\":false,\"input_type\":\"text\",\"default_value\":\"\",\"values\":[\"\"]}]},{\"id\":1261,\"name\":\"dob\",\"color\":\"#6da148\",\"attributes\":[{\"id\":1261,\"name\":\"text_label\",\"mutable\":false,\"input_type\":\"text\",\"default_value\":\"\",\"values\":[\"\"]}]},{\"id\":1260,\"name\":\"name\",\"color\":\"#47aa36\",\"attributes\":[{\"id\":1260,\"name\":\"text_label\",\"mutable\":false,\"input_type\":\"text\",\"default_value\":\"\",\"values\":[\"\"]}]},{\"id\":1259,\"name\":\"id_number\",\"color\":\"#2c1223\",\"attributes\":[{\"id\":1259,\"name\":\"text_label\",\"mutable\":false,\"input_type\":\"text\",\"default_value\":\"\",\"values\":[\"\"]}]},{\"id\":1258,\"name\":\"ethnicity\",\"color\":\"#d429f9\",\"attributes\":[{\"id\":1258,\"name\":\"text_label\",\"mutable\":false,\"input_type\":\"text\",\"default_value\":\"\",\"values\":[\"\"]}]}],\"segments\":[{\"start_frame\":0,\"stop_frame\":99,\"jobs\":[{\"url\":\"http://139.162.12.110:8080/api/v1/jobs/94\",\"id\":94,\"assignee\":null,\"reviewer\":{\"url\":\"http://139.162.12.110:8080/api/v1/users/40\",\"id\":40,\"username\":\"ManhBQ\",\"first_name\":\"\",\"last_name\":\"\"},\"status\":\"validation\"}]}],\"data_chunk_size\":14,\"data_compressed_chunk_type\":\"imageset\",\"data_original_chunk_type\":\"imageset\",\"size\":100,\"image_quality\":50,\"data\":94,\"dimension\":\"2d\",\"subset\":\"\"}'"
      ]
     },
     "execution_count": 10,
     "metadata": {},
     "output_type": "execute_result"
    }
   ],
   "source": [
    "req = requests.get(\"{}/api/v1/tasks/94\".format(CVAT_URL), cookies=cookies)\n",
    "req.text"
   ]
  },
  {
   "cell_type": "code",
   "execution_count": 15,
   "id": "6a55ea02",
   "metadata": {},
   "outputs": [
    {
     "name": "stdout",
     "output_type": "stream",
     "text": [
      "60\n"
     ]
    }
   ],
   "source": [
    "task_ids = list(range(94, 154))  # ignore task 1047\n",
    "print(len(task_ids))"
   ]
  },
  {
   "cell_type": "markdown",
   "id": "c76dbb26",
   "metadata": {},
   "source": [
    "## Download ảnh + label"
   ]
  },
  {
   "cell_type": "code",
   "execution_count": 16,
   "id": "2068440b",
   "metadata": {},
   "outputs": [],
   "source": [
    "saved_dir = \"/home/doan.bao.linh/Downloads/data/kyc/OCR/zip\"\n",
    "assert os.path.exists(saved_dir)\n",
    "remove_all_content(saved_dir)"
   ]
  },
  {
   "cell_type": "code",
   "execution_count": 17,
   "id": "7ba9ce16",
   "metadata": {},
   "outputs": [],
   "source": [
    "url_fmt = \"http://{}:8080/api/v1/tasks/{}/dataset?format=COCO%201.0&action=download\""
   ]
  },
  {
   "cell_type": "code",
   "execution_count": 18,
   "id": "8351b92b",
   "metadata": {},
   "outputs": [
    {
     "name": "stderr",
     "output_type": "stream",
     "text": [
      "/home/doan.bao.linh/miniconda3/envs/python37/lib/python3.7/site-packages/ipykernel_launcher.py:1: TqdmDeprecationWarning: This function will be removed in tqdm==5.0.0\n",
      "Please use `tqdm.notebook.tqdm` instead of `tqdm.tqdm_notebook`\n",
      "  \"\"\"Entry point for launching an IPython kernel.\n"
     ]
    },
    {
     "data": {
      "application/vnd.jupyter.widget-view+json": {
       "model_id": "3eec0a8c87d6437d9a70dc5fdc48ae10",
       "version_major": 2,
       "version_minor": 0
      },
      "text/plain": [
       "  0%|          | 0/60 [00:00<?, ?it/s]"
      ]
     },
     "metadata": {},
     "output_type": "display_data"
    },
    {
     "name": "stdout",
     "output_type": "stream",
     "text": [
      "'Task 94: download completed'\n",
      "'Task 95: download completed'\n",
      "'Task 96: download completed'\n",
      "'Task 97: download completed'\n",
      "'Task 98: download completed'\n",
      "'Task 99: download completed'\n",
      "'Task 100: download completed'\n",
      "'Task 101: download completed'\n",
      "'Task 102: download completed'\n",
      "'Task 103: download completed'\n",
      "'Task 104: download completed'\n",
      "'Task 105: download completed'\n",
      "'Task 106: download completed'\n",
      "'Task 107: download completed'\n",
      "'Task 108: download completed'\n",
      "'Task 109: download completed'\n",
      "'Task 110: download completed'\n",
      "'Task 111: download completed'\n",
      "'Task 112: download completed'\n",
      "'Task 113: download completed'\n",
      "'Task 114: download completed'\n",
      "'Task 115: download completed'\n",
      "'Task 116: download completed'\n",
      "'Task 117: download completed'\n",
      "'Task 118: download completed'\n",
      "'Task 119: download completed'\n",
      "'Task 120: download completed'\n",
      "'Task 121: download completed'\n",
      "'Task 122: download completed'\n",
      "'Task 123: download completed'\n",
      "'Task 124: download completed'\n",
      "'Task 125: download completed'\n",
      "'Task 126: download completed'\n",
      "'Task 127: download completed'\n",
      "'Task 128: download completed'\n",
      "'Task 129: download completed'\n",
      "'Task 130: download completed'\n",
      "'Task 131: download completed'\n",
      "'Task 132: download completed'\n",
      "'Task 133: download completed'\n",
      "'Task 134: download completed'\n",
      "'Task 135: download completed'\n",
      "'Task 136: download completed'\n",
      "'Task 137: download completed'\n",
      "'Task 138: download completed'\n",
      "'Task 139: download completed'\n",
      "'Task 140: download completed'\n",
      "'Task 141: download completed'\n",
      "'Task 142: download completed'\n",
      "'Task 143: download completed'\n",
      "'Task 144: download completed'\n",
      "'Task 145: download completed'\n",
      "'Task 146: download completed'\n",
      "'Task 147: download completed'\n",
      "'Task 148: download completed'\n",
      "'Task 149: download completed'\n",
      "'Task 150: download completed'\n",
      "'Task 151: download completed'\n",
      "'Task 152: download completed'\n",
      "'Task 153: download completed'\n"
     ]
    }
   ],
   "source": [
    "for task_id in tqdm_notebook(task_ids):\n",
    "    url = url_fmt.format(args.server_host, task_id)\n",
    "\n",
    "    while True:\n",
    "        req = requests.get(url, cookies=cookies)\n",
    "        if req.status_code == 200:\n",
    "            download_file(req, task_id)\n",
    "            break\n",
    "\n",
    "    time.sleep(10)\n",
    "    \n",
    "# unzip all zip files in the same root folder\n",
    "for task_id in task_ids:\n",
    "    zip_fp = os.path.join(saved_dir, \"{}.zip\".format(task_id))\n",
    "    assert os.path.exists(zip_fp)\n",
    "    \n",
    "    task_dir = os.path.join(saved_dir, str(task_id))\n",
    "    if not os.path.exists(task_dir):\n",
    "        os.mkdir(task_dir)\n",
    "        \n",
    "    with zipfile.ZipFile(zip_fp, \"r\") as zip_ref:\n",
    "        zip_ref.extractall(task_dir)"
   ]
  },
  {
   "cell_type": "code",
   "execution_count": null,
   "id": "3c8fb551",
   "metadata": {},
   "outputs": [],
   "source": []
  }
 ],
 "metadata": {
  "kernelspec": {
   "display_name": "Python 3",
   "language": "python",
   "name": "python3"
  },
  "language_info": {
   "codemirror_mode": {
    "name": "ipython",
    "version": 3
   },
   "file_extension": ".py",
   "mimetype": "text/x-python",
   "name": "python",
   "nbconvert_exporter": "python",
   "pygments_lexer": "ipython3",
   "version": "3.7.10"
  }
 },
 "nbformat": 4,
 "nbformat_minor": 5
}
